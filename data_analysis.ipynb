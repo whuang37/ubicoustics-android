{
 "cells": [
  {
   "cell_type": "code",
   "execution_count": null,
   "metadata": {},
   "outputs": [],
   "source": [
    "from pathlib import Path\n",
    "import pandas as pd\n",
    "import matplotlib.pyplot as plt\n",
    "import numpy as np\n"
   ]
  },
  {
   "cell_type": "code",
   "execution_count": null,
   "metadata": {},
   "outputs": [],
   "source": [
    "STREAM_DATA_PATH = Path(\"data/stream\")\n",
    "EDGE_DATA_PATH = Path(\"data/edge\")\n",
    "\n",
    "OUT_PATH = Path(\"out/\")\n"
   ]
  },
  {
   "cell_type": "code",
   "execution_count": null,
   "metadata": {},
   "outputs": [],
   "source": [
    "# loading all the data\n",
    "def load_csv_folder(folder_path):\n",
    "    dfs = []\n",
    "    for path in folder_path.iterdir():\n",
    "        if path.suffix == \".csv\":\n",
    "            df = pd.read_csv(path)\n",
    "            dfs.append(df)\n",
    "\n",
    "    return dfs\n",
    "\n",
    "data = {\"stream\": load_csv_folder(STREAM_DATA_PATH),\n",
    "            \"edge\": load_csv_folder(EDGE_DATA_PATH)}\n"
   ]
  },
  {
   "cell_type": "code",
   "execution_count": null,
   "metadata": {},
   "outputs": [],
   "source": [
    "# remove all data up to first cough and 20 seconds after first cough since we use the example wav\n",
    "def get_example_wav_data(df):\n",
    "    m = df[\"label\"].where(df[\"label\"] == \"cough\").ffill() # create a mask\n",
    "    df = df[m.notnull()].reset_index(drop=True)\n",
    "\n",
    "    starting_timestamp = df[\"timestamp\"].min()\n",
    "\n",
    "    # only look at a 20 second period cause thats how long the example wave is\n",
    "    df = df[df[\"timestamp\"] < starting_timestamp + 20000]\n",
    "    df[\"time_from_start\"] = df[\"timestamp\"] - starting_timestamp\n",
    "    return df\n",
    "\n",
    "for origin_type, dfs in data.items():\n",
    "    for i in range(len(dfs)):\n",
    "        dfs[i] = get_example_wav_data(dfs[i])\n"
   ]
  },
  {
   "cell_type": "code",
   "execution_count": null,
   "metadata": {},
   "outputs": [],
   "source": [
    "def get_prediction_rate(df):\n",
    "    # returns prediction rate in predictions/sec\n",
    "    time_range = (df[\"timestamp\"].max() - df[\"timestamp\"].min()) / 1000 # in seconds\n",
    "\n",
    "    return len(df)/time_range\n",
    "\n",
    "for origin_type, dfs in data.items():\n",
    "    prediction_rates = []\n",
    "    for df in dfs:\n",
    "        prediction_rates.append(get_prediction_rate(df))\n",
    "    prediction_rates = np.array(prediction_rates)\n",
    "\n",
    "    print(f\"{origin_type} Mean: {np.mean(prediction_rates)} SD: {np.std(prediction_rates)}\")\n"
   ]
  },
  {
   "cell_type": "code",
   "execution_count": null,
   "metadata": {},
   "outputs": [],
   "source": [
    "def get_col_from_df_list(dfs, col_name):\n",
    "    vals = []\n",
    "    for df in dfs:\n",
    "        vals.extend(df[col_name].to_list())\n",
    "\n",
    "    return np.array(vals)\n",
    "\n",
    "delays = {\n",
    "            \"Edge Full Delay\": get_col_from_df_list(data[\"edge\"], \"delay\"),\n",
    "            \"Stream Full Delay\": get_col_from_df_list(data[\"stream\"], \"delay\"),\n",
    "            \"Stream Recording Delay\": get_col_from_df_list(data[\"stream\"], \"record_delay\"),\n",
    "            \"Stream Processing Delay\": get_col_from_df_list(data[\"stream\"], \"process_delay\")\n",
    "}\n"
   ]
  },
  {
   "cell_type": "code",
   "execution_count": null,
   "metadata": {},
   "outputs": [],
   "source": [
    "for delay_type, delay in delays.items():\n",
    "    print(f\"{delay_type} Mean: {np.mean(delay)} SD: {np.std(delay)}\")\n"
   ]
  },
  {
   "cell_type": "code",
   "execution_count": null,
   "metadata": {},
   "outputs": [],
   "source": [
    "for delay_type, delay in delays.items():\n",
    "    data_range = (np.min(delay)-20, np.min(delay)+150)\n",
    "    plt.figure()\n",
    "    plt.hist(delay, bins=50, range=data_range)\n",
    "    plt.ylabel(\"Frequency (count)\")\n",
    "    plt.xlabel(\"Delay (ms)\")\n",
    "    plt.xlim(data_range)\n",
    "    plt.title(delay_type)\n",
    "\n",
    "    plt.savefig(OUT_PATH / f\"{delay_type}_histogram.png\")\n"
   ]
  },
  {
   "cell_type": "code",
   "execution_count": null,
   "metadata": {},
   "outputs": [],
   "source": [
    "sizes = [np.mean(delays[\"Stream Recording Delay\"]), np.mean(delays[\"Stream Processing Delay\"])]\n",
    "labels = [\"Recording Delay\", \"Processing Delay\"]\n",
    "\n",
    "plt.pie(sizes, labels=labels, autopct='%1.1f%%')\n",
    "plt.title(\"Composition of Stream Delay\")\n",
    "plt.savefig(OUT_PATH / \"stream_delay_composition.png\")\n"
   ]
  },
  {
   "cell_type": "code",
   "execution_count": null,
   "metadata": {},
   "outputs": [],
   "source": [
    "to_graph = {\"Edge Full Delay\": delays[\"Edge Full Delay\"],\n",
    "            \"Stream Processing Delay\": delays[\"Stream Processing Delay\"]}\n",
    "\n",
    "fig, ax = plt.subplots()\n",
    "ax.boxplot(to_graph.values())\n",
    "ax.set_xticklabels(to_graph.keys())\n",
    "\n",
    "ax.set_title(\"Model Processing Delay\")\n",
    "\n",
    "plt.savefig(OUT_PATH/\"processing_delay.png\")\n"
   ]
  },
  {
   "cell_type": "code",
   "execution_count": null,
   "metadata": {},
   "outputs": [],
   "source": [
    "for df in data[\"edge\"]:\n",
    "    plt.plot(df[\"time_from_start\"], df[\"delay\"], alpha=.7)\n",
    "    plt.ylim(np.min(df[\"delay\"]) - 30, np.max(df[\"delay\"]) + 100)\n",
    "\n",
    "plt.xlabel(\"Time From Start (ms)\")\n",
    "plt.ylabel(\"Delay\")\n",
    "plt.title(\"Edge Delay Over Time\")\n",
    "\n",
    "plt.savefig(OUT_PATH/\"edge_over_time.png\")\n"
   ]
  },
  {
   "cell_type": "code",
   "execution_count": null,
   "metadata": {},
   "outputs": [],
   "source": [
    "for df in data[\"stream\"]:\n",
    "    plt.plot(df[\"time_from_start\"], df[\"delay\"], alpha=.7)\n",
    "    plt.ylim(np.min(df[\"delay\"]) - 30, np.max(df[\"delay\"]) + 200)\n",
    "\n",
    "plt.xlabel(\"Time From Start (ms)\")\n",
    "plt.ylabel(\"Delay\")\n",
    "plt.title(\"Stream Delay Over Time\")\n",
    "\n",
    "plt.savefig(OUT_PATH/\"stream_over_time.png\")\n"
   ]
  }
 ],
 "metadata": {
  "kernelspec": {
   "display_name": "Python 3",
   "language": "python",
   "name": "python3"
  },
  "language_info": {
   "codemirror_mode": {
    "name": "ipython",
    "version": 3
   },
   "file_extension": ".py",
   "mimetype": "text/x-python",
   "name": "python",
   "nbconvert_exporter": "python",
   "pygments_lexer": "ipython3",
   "version": "3.10.8"
  }
 },
 "nbformat": 4,
 "nbformat_minor": 2
}
